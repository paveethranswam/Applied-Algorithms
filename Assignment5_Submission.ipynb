{
 "cells": [
  {
   "cell_type": "markdown",
   "id": "0b38a4be",
   "metadata": {},
   "source": [
    "# Q1"
   ]
  },
  {
   "cell_type": "code",
   "execution_count": 9,
   "id": "281b4ec0",
   "metadata": {},
   "outputs": [],
   "source": [
    "import math\n",
    "class amor_dict():\n",
    "    def __init__(self, stack):\n",
    "        # decide min number of levels from list\n",
    "        # log27=x and is w^x = length of input list, make x nearest to lower value of float\n",
    "        self.amor_d = {}\n",
    "        \n",
    "        if(len(stack) > 0):\n",
    "            self.levels =  math.floor(math.log(len(stack),2))\n",
    "            temp_d = {}\n",
    "            while(stack):\n",
    "                # decide what is the next level that can be used to store elements\n",
    "                current_level = math.floor(math.log(len(stack),2))\n",
    "                current_level_elements = []\n",
    "                number_of_elements_needed = 2**current_level\n",
    "                while(number_of_elements_needed > 0):\n",
    "                    current_level_elements.append(stack.pop())\n",
    "                    number_of_elements_needed-=1\n",
    "\n",
    "                current_level_elements.sort()\n",
    "                temp_d[current_level] = current_level_elements\n",
    "\n",
    "            # add middle keys (2,0 are done, we also need to show level 1 is empty)\n",
    "            for i in range(0, max(temp_d.keys())):\n",
    "                if(not temp_d.get(i)):\n",
    "                    temp_d[i] = []\n",
    "\n",
    "\n",
    "            # have the dict in sorted order\n",
    "            for i in sorted(temp_d.keys()):\n",
    "                self.amor_d[i] = temp_d[i]\n",
    "\n",
    "            self.levels = list(self.amor_d.keys())[-1] # update number of levels in amor dict \n",
    "#             print(self.amor_d, self.levels)\n",
    "        \n",
    "        \n",
    "    def insert(self, num):\n",
    "        # from level 0 keep finding the next empty subset and combine all the values in the previous boxes \n",
    "        combine_nums = [num]\n",
    "        for i in range(0, self.levels):\n",
    "            if(self.amor_d[i] == []):\n",
    "                combine_nums.sort()\n",
    "                self.amor_d[i] = combine_nums    \n",
    "                self.levels = list(self.amor_d.keys())[-1]\n",
    "                return self.amor_d\n",
    "            \n",
    "            while(self.amor_d[i]):\n",
    "                combine_nums.append(self.amor_d[i].pop())\n",
    "            \n",
    "        \n",
    "        # if no empty level found till last level, then create new level and put all the elements in that level and sort\n",
    "        # if this code is exceuted then it has not returned anything in the previous loop\n",
    "#         print('here')\n",
    "        combine_nums.sort()\n",
    "        self.amor_d[i+1] = combine_nums\n",
    "        return self.amor_d\n",
    "        \n",
    "    \n",
    "    def search(self, num):\n",
    "        for i in range(self.levels + 1):\n",
    "            # binary search in each list\n",
    "            low = 0\n",
    "            high = len(self.amor_d[i]) - 1\n",
    "            if(high != 0):\n",
    "                while(low <= high):\n",
    "                    mid = int((low + high)/2)\n",
    "                    \n",
    "                    if(self.amor_d[i][mid] == num):\n",
    "                        return i\n",
    "\n",
    "                    elif(num > self.amor_d[i][mid]):\n",
    "                        low= mid+1\n",
    "\n",
    "                    else:\n",
    "                        high = mid-1\n",
    "        \n",
    "        return -1\n",
    "        \n",
    "    def print(self):\n",
    "        for i in range(self.levels + 1):\n",
    "            print(i, ': ', self.amor_d[i])\n",
    "            \n",
    "        return\n",
    "        "
   ]
  },
  {
   "cell_type": "code",
   "execution_count": 12,
   "id": "1d8e70ef",
   "metadata": {},
   "outputs": [
    {
     "name": "stdout",
     "output_type": "stream",
     "text": [
      "0 :  []\n",
      "1 :  []\n",
      "2 :  [12, 23, 24, 42]\n"
     ]
    }
   ],
   "source": [
    "adj = amor_dict([23,12,24,42])\n",
    "adj.print()"
   ]
  },
  {
   "cell_type": "code",
   "execution_count": 13,
   "id": "a8f44065",
   "metadata": {},
   "outputs": [
    {
     "name": "stdout",
     "output_type": "stream",
     "text": [
      "0 :  [11]\n",
      "1 :  []\n",
      "2 :  [12, 23, 24, 42]\n"
     ]
    }
   ],
   "source": [
    "adj.insert(num = 11)\n",
    "adj.print()"
   ]
  },
  {
   "cell_type": "code",
   "execution_count": 14,
   "id": "7ae2edbc",
   "metadata": {},
   "outputs": [
    {
     "name": "stdout",
     "output_type": "stream",
     "text": [
      "0 :  []\n",
      "1 :  [11, 74]\n",
      "2 :  [12, 23, 24, 42]\n"
     ]
    }
   ],
   "source": [
    "adj.insert(num = 74)\n",
    "adj.print()"
   ]
  },
  {
   "cell_type": "code",
   "execution_count": 16,
   "id": "37aaa0f6",
   "metadata": {},
   "outputs": [
    {
     "name": "stdout",
     "output_type": "stream",
     "text": [
      "level  1\n"
     ]
    }
   ],
   "source": [
    "print('level ', adj.search(74))"
   ]
  },
  {
   "cell_type": "code",
   "execution_count": 17,
   "id": "ebbad8ec",
   "metadata": {},
   "outputs": [
    {
     "name": "stdout",
     "output_type": "stream",
     "text": [
      "level  -1\n"
     ]
    }
   ],
   "source": [
    "print('level ', adj.search(77))"
   ]
  },
  {
   "cell_type": "code",
   "execution_count": null,
   "id": "ebebc346",
   "metadata": {},
   "outputs": [],
   "source": []
  },
  {
   "cell_type": "markdown",
   "id": "4d65dd5a",
   "metadata": {},
   "source": [
    "# Q5"
   ]
  },
  {
   "cell_type": "code",
   "execution_count": 1,
   "id": "2e970402",
   "metadata": {},
   "outputs": [],
   "source": [
    "def count_digit_string(n):\n",
    "    \n",
    "    if(n==1):\n",
    "        return '1'\n",
    "    \n",
    "    else:\n",
    "        output_str = ''\n",
    "        input_str = count_digit_string(n-1) #recursive method\n",
    "#         print(n-1, input_str)\n",
    "        counter_char = 0\n",
    "        prev_char = input_str[0]\n",
    "        for i in range(len(input_str)):\n",
    "            if(input_str[i] == prev_char):\n",
    "                counter_char+=1\n",
    "                if(i == len(input_str) - 1):\n",
    "                    output_str+=str(counter_char) + str(prev_char)\n",
    "                \n",
    "            else:\n",
    "                output_str+=str(counter_char) + str(prev_char)\n",
    "                counter_char = 1\n",
    "                prev_char = input_str[i]\n",
    "                if(i == len(input_str) - 1):\n",
    "                    output_str+=str(counter_char) + str(prev_char)\n",
    "        \n",
    "        return output_str\n",
    "        "
   ]
  },
  {
   "cell_type": "code",
   "execution_count": 2,
   "id": "62cf0947",
   "metadata": {},
   "outputs": [
    {
     "name": "stdout",
     "output_type": "stream",
     "text": [
      "1\n",
      "1211\n",
      "312211\n",
      "13211311123113112211\n"
     ]
    }
   ],
   "source": [
    "print( count_digit_string(1) )\n",
    "print( count_digit_string(4) )\n",
    "print( count_digit_string(6) )\n",
    "print( count_digit_string(10) )\n",
    "# print( count_digit_string(31) )\n",
    "# print( count_digit_string(35) )\n"
   ]
  },
  {
   "cell_type": "code",
   "execution_count": null,
   "id": "5d7bbca8",
   "metadata": {},
   "outputs": [],
   "source": []
  },
  {
   "cell_type": "code",
   "execution_count": null,
   "id": "278d27cb",
   "metadata": {},
   "outputs": [],
   "source": []
  },
  {
   "cell_type": "code",
   "execution_count": null,
   "id": "fdf931b3",
   "metadata": {},
   "outputs": [],
   "source": []
  },
  {
   "cell_type": "code",
   "execution_count": null,
   "id": "373270d4",
   "metadata": {},
   "outputs": [],
   "source": []
  },
  {
   "cell_type": "code",
   "execution_count": null,
   "id": "f3d524b3",
   "metadata": {},
   "outputs": [],
   "source": []
  }
 ],
 "metadata": {
  "kernelspec": {
   "display_name": "Python 3",
   "language": "python",
   "name": "python3"
  },
  "language_info": {
   "codemirror_mode": {
    "name": "ipython",
    "version": 3
   },
   "file_extension": ".py",
   "mimetype": "text/x-python",
   "name": "python",
   "nbconvert_exporter": "python",
   "pygments_lexer": "ipython3",
   "version": "3.7.9"
  }
 },
 "nbformat": 4,
 "nbformat_minor": 5
}
