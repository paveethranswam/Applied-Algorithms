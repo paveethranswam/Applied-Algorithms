{
 "cells": [
  {
   "cell_type": "code",
   "execution_count": 170,
   "id": "293848ac",
   "metadata": {},
   "outputs": [],
   "source": [
    "class Node():\n",
    "    \n",
    "    # create init\n",
    "    def __init__(self, value):\n",
    "        self.value = value\n",
    "        self.right = None\n",
    "        self.left = None\n",
    "        \n",
    "    def insert(self, root, value):\n",
    "        \n",
    "        if(root == None): # no root found:\n",
    "            current_node = Node(value)\n",
    "            return current_node\n",
    "        \n",
    "        else: # if root present\n",
    "#             print(root.value)\n",
    "            if(root.value == value):\n",
    "                return root\n",
    "            else:\n",
    "                if(value > root.value):\n",
    "                    root.right = self.insert(root.right, value)\n",
    "                else:\n",
    "                    root.left = self.insert(root.left, value)\n",
    "\n",
    "        return root\n",
    "                    \n",
    "  \n",
    "def height( node):\n",
    "    global max_h\n",
    "    if(tree == None):\n",
    "        return -1\n",
    "    else:\n",
    "\n",
    "        lh = height(node.left)      \n",
    "        rh = height(node.right)\n",
    "        max_h = max(lh, rh) + 1 \n",
    "        return max_h\n",
    "           \n",
    "\n",
    "\n",
    "def print_tree(root):\n",
    "    if(root):\n",
    "        print_tree(root.left)\n",
    "        print(root.value)\n",
    "        print_tree(root.right)"
   ]
  },
  {
   "cell_type": "code",
   "execution_count": 173,
   "id": "3ea6f56f",
   "metadata": {},
   "outputs": [
    {
     "data": {
      "text/plain": [
       "<__main__.Node at 0x274e63ca788>"
      ]
     },
     "execution_count": 173,
     "metadata": {},
     "output_type": "execute_result"
    }
   ],
   "source": [
    "# tree = Node(root_flag = 1, value = 9)\n",
    "tree = Node(9)\n",
    "tree.insert(tree, 6)\n",
    "tree.insert(tree, 12)\n",
    "tree.insert(tree, 1)\n",
    "tree.insert(tree, 24)\n",
    "# tree.insert(tree, 9)\n"
   ]
  },
  {
   "cell_type": "code",
   "execution_count": 181,
   "id": "fedf93fa",
   "metadata": {},
   "outputs": [
    {
     "data": {
      "text/plain": [
       "2"
      ]
     },
     "execution_count": 181,
     "metadata": {},
     "output_type": "execute_result"
    }
   ],
   "source": [
    "# print_tree(tree)\n",
    "global max_h\n",
    "max_h = 0\n",
    "to_find_node = Node(6)\n",
    "height(tree, to_find_node)\n"
   ]
  },
  {
   "cell_type": "code",
   "execution_count": 175,
   "id": "24fc2b9e",
   "metadata": {},
   "outputs": [
    {
     "name": "stdout",
     "output_type": "stream",
     "text": [
      "1\n",
      "6\n",
      "9\n",
      "12\n",
      "24\n"
     ]
    }
   ],
   "source": [
    "print_tree(tree)"
   ]
  },
  {
   "cell_type": "code",
   "execution_count": null,
   "id": "a9f7fd04",
   "metadata": {},
   "outputs": [],
   "source": []
  },
  {
   "cell_type": "code",
   "execution_count": null,
   "id": "872d8870",
   "metadata": {},
   "outputs": [],
   "source": []
  },
  {
   "cell_type": "code",
   "execution_count": null,
   "id": "c28ca304",
   "metadata": {},
   "outputs": [],
   "source": []
  },
  {
   "cell_type": "code",
   "execution_count": null,
   "id": "7c63a0b8",
   "metadata": {},
   "outputs": [],
   "source": []
  }
 ],
 "metadata": {
  "kernelspec": {
   "display_name": "Python 3",
   "language": "python",
   "name": "python3"
  },
  "language_info": {
   "codemirror_mode": {
    "name": "ipython",
    "version": 3
   },
   "file_extension": ".py",
   "mimetype": "text/x-python",
   "name": "python",
   "nbconvert_exporter": "python",
   "pygments_lexer": "ipython3",
   "version": "3.7.9"
  }
 },
 "nbformat": 4,
 "nbformat_minor": 5
}
