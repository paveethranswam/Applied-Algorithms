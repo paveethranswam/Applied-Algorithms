{
 "cells": [
  {
   "cell_type": "code",
   "execution_count": 59,
   "id": "cd7f1bfe",
   "metadata": {},
   "outputs": [],
   "source": [
    "def selection_sort(l):\n",
    "       \n",
    "    for i in range(len(l)):\n",
    "        current = l[i]\n",
    "#         print(current)\n",
    "        min_value = current\n",
    "        for j in range(i+1, len(l)):\n",
    "#             print('m',min_value, l[j])\n",
    "            if(l[j] < min_value):\n",
    "                min_index = j\n",
    "                min_value =  l[j]\n",
    "            \n",
    "        if(min_value != current):            \n",
    "            l[i] = min_value\n",
    "            l[min_index] = current\n",
    "        print(l)\n",
    "    \n",
    "    return l\n",
    "        "
   ]
  },
  {
   "cell_type": "code",
   "execution_count": 60,
   "id": "1dfad173",
   "metadata": {},
   "outputs": [
    {
     "name": "stdout",
     "output_type": "stream",
     "text": [
      "[4, 23, 7, 99, 54]\n",
      "[4, 7, 23, 99, 54]\n",
      "[4, 7, 23, 99, 54]\n",
      "[4, 7, 23, 54, 99]\n",
      "[4, 7, 23, 54, 99]\n"
     ]
    },
    {
     "data": {
      "text/plain": [
       "[4, 7, 23, 54, 99]"
      ]
     },
     "execution_count": 60,
     "metadata": {},
     "output_type": "execute_result"
    }
   ],
   "source": [
    "l = [54, 23, 7, 99, 4]\n",
    "selection_sort(l)"
   ]
  },
  {
   "cell_type": "code",
   "execution_count": 61,
   "id": "c60bec03",
   "metadata": {},
   "outputs": [
    {
     "name": "stdout",
     "output_type": "stream",
     "text": [
      "[4, 1123, 37, 9, 254]\n",
      "[4, 9, 37, 1123, 254]\n",
      "[4, 9, 37, 1123, 254]\n",
      "[4, 9, 37, 254, 1123]\n",
      "[4, 9, 37, 254, 1123]\n"
     ]
    },
    {
     "data": {
      "text/plain": [
       "[4, 9, 37, 254, 1123]"
      ]
     },
     "execution_count": 61,
     "metadata": {},
     "output_type": "execute_result"
    }
   ],
   "source": [
    "l = [254, 1123, 37, 9, 4]\n",
    "selection_sort(l)"
   ]
  },
  {
   "cell_type": "code",
   "execution_count": 62,
   "id": "96c5c4b3",
   "metadata": {},
   "outputs": [
    {
     "name": "stdout",
     "output_type": "stream",
     "text": [
      "[-69, 23, -65, -3, 69, 55]\n",
      "[-69, -65, 23, -3, 69, 55]\n",
      "[-69, -65, -3, 23, 69, 55]\n",
      "[-69, -65, -3, 23, 69, 55]\n",
      "[-69, -65, -3, 23, 55, 69]\n",
      "[-69, -65, -3, 23, 55, 69]\n"
     ]
    },
    {
     "data": {
      "text/plain": [
       "[-69, -65, -3, 23, 55, 69]"
      ]
     },
     "execution_count": 62,
     "metadata": {},
     "output_type": "execute_result"
    }
   ],
   "source": [
    "l = [-3, 23, -65, -69, 69, 55]\n",
    "selection_sort(l)"
   ]
  },
  {
   "cell_type": "code",
   "execution_count": 63,
   "id": "0f5a1dd6",
   "metadata": {},
   "outputs": [
    {
     "name": "stdout",
     "output_type": "stream",
     "text": [
      "[152, 615, 154, 605, 606]\n",
      "[152, 154, 615, 605, 606]\n",
      "[152, 154, 605, 615, 606]\n",
      "[152, 154, 605, 606, 615]\n",
      "[152, 154, 605, 606, 615]\n"
     ]
    },
    {
     "data": {
      "text/plain": [
       "[152, 154, 605, 606, 615]"
      ]
     },
     "execution_count": 63,
     "metadata": {},
     "output_type": "execute_result"
    }
   ],
   "source": [
    "l = [ 606, 615, 154, 605, 152]\n",
    "selection_sort(l)"
   ]
  },
  {
   "cell_type": "code",
   "execution_count": null,
   "id": "320da174",
   "metadata": {},
   "outputs": [],
   "source": []
  }
 ],
 "metadata": {
  "kernelspec": {
   "display_name": "Python 3",
   "language": "python",
   "name": "python3"
  },
  "language_info": {
   "codemirror_mode": {
    "name": "ipython",
    "version": 3
   },
   "file_extension": ".py",
   "mimetype": "text/x-python",
   "name": "python",
   "nbconvert_exporter": "python",
   "pygments_lexer": "ipython3",
   "version": "3.7.9"
  }
 },
 "nbformat": 4,
 "nbformat_minor": 5
}
