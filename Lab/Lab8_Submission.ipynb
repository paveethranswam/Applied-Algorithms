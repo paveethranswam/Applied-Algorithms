{
 "cells": [
  {
   "cell_type": "code",
   "execution_count": 206,
   "id": "5866852a",
   "metadata": {},
   "outputs": [],
   "source": [
    "import numpy as np\n",
    "\n",
    "class PriorityQueue():\n",
    "    def __init__(self, p_value, val):\n",
    "        self.val = val\n",
    "        self.p_value = p_value\n",
    "        self.heap = [(self.p_value, self.val)]\n",
    "        \n",
    "    def insert(self, element):\n",
    "      # when new value comes in add to list, and sort the heap\n",
    "        self.heap.append( (element[0], element[1]) )\n",
    "        curr_ix = len(self.heap) -1\n",
    "\n",
    "        parent_ix = (curr_ix - 1 )//2 # parent of last element\n",
    "        parent_pval = self.heap[parent_ix][0]\n",
    "        \n",
    "        while(curr_ix > 0 and element[0] > parent_pval ):\n",
    "            # now re-sort the full heap\n",
    "            # check if it is less than parent value\n",
    "            temp = self.heap[parent_ix]\n",
    "            self.heap[parent_ix] = element\n",
    "            self.heap[curr_ix] = temp\n",
    "            curr_ix = parent_ix\n",
    "\n",
    "            parent_ix = (curr_ix - 1 )//2 # last element\n",
    "            parent_pval = self.heap[parent_ix][0]\n",
    "#             print(curr_ix, parent_ix, self.heap)\n",
    "\n",
    "        \n",
    "        print('final', self.heap)\n",
    "        \n",
    "    def bubble_down(self, ix):\n",
    "        curr_min = ix \n",
    "        left_child = 2*ix + 1\n",
    "        right_child = 2*ix + 2\n",
    "        \n",
    "        if( left_child < len(self.heap) and self.heap[left_child] > self.heap[curr_min]):\n",
    "            curr_min = left_child\n",
    "        \n",
    "        if( right_child < len(self.heap) and self.heap[right_child] > self.heap[curr_min]):\n",
    "            curr_min = right_child\n",
    "        \n",
    "        # if there is any change only then do recursion, else stop with this as there are no more changes and return\n",
    "        if(curr_min != ix):\n",
    "            temp = self.heap[ix]\n",
    "            self.heap[ix] = self.heap[curr_min]\n",
    "            self.heap[curr_min] = temp\n",
    "            self.bubble_down(curr_min)        \n",
    "        \n",
    "    \n",
    "    def get_max(self):\n",
    "        if(self.heap):\n",
    "            # remove and return this element        \n",
    "            # put last element here and re-sort heap\n",
    "            last_elem = self.heap[-1]\n",
    "            result = self.heap[0]\n",
    "            self.heap[0] = last_elem\n",
    "            self.heap[-1] = result\n",
    "            self.heap.pop() # removes previous root node\n",
    "\n",
    "            # now make heap correct\n",
    "            self.bubble_down(0)\n",
    "\n",
    "            return result\n",
    "    \n",
    "        else:\n",
    "            return 'Heap is empty'"
   ]
  },
  {
   "cell_type": "code",
   "execution_count": null,
   "id": "3f9c1a48",
   "metadata": {},
   "outputs": [],
   "source": []
  },
  {
   "cell_type": "code",
   "execution_count": 207,
   "id": "78e38de2",
   "metadata": {},
   "outputs": [
    {
     "data": {
      "text/plain": [
       "[(4, 'AA')]"
      ]
     },
     "execution_count": 207,
     "metadata": {},
     "output_type": "execute_result"
    }
   ],
   "source": [
    "# Doing min heap\n",
    "pq = PriorityQueue(4, 'AA')\n",
    "pq.heap"
   ]
  },
  {
   "cell_type": "code",
   "execution_count": 208,
   "id": "af701776",
   "metadata": {},
   "outputs": [
    {
     "name": "stdout",
     "output_type": "stream",
     "text": [
      "final [(7, 'SD'), (4, 'AA')]\n",
      "final [(7, 'SD'), (4, 'AA'), (2, 'DB')]\n",
      "final [(12, 'DB'), (7, 'SD'), (2, 'DB'), (4, 'AA')]\n",
      "final [(12, 'DB'), (7, 'SD'), (2, 'DB'), (4, 'AA'), (6, 'DB')]\n",
      "final [(12, 'DB'), (7, 'SD'), (2, 'DB'), (4, 'AA'), (6, 'DB'), (1, 'DB')]\n"
     ]
    }
   ],
   "source": [
    "pq.insert((7, 'SD'))\n",
    "pq.insert((2, 'DB'))\n",
    "pq.insert((12, 'DB'))\n",
    "pq.insert((6, 'DB'))\n",
    "pq.insert((1, 'DB'))\n"
   ]
  },
  {
   "cell_type": "code",
   "execution_count": null,
   "id": "060688dc",
   "metadata": {},
   "outputs": [],
   "source": []
  },
  {
   "cell_type": "code",
   "execution_count": 209,
   "id": "1950266a",
   "metadata": {},
   "outputs": [
    {
     "data": {
      "text/plain": [
       "(12, 'DB')"
      ]
     },
     "execution_count": 209,
     "metadata": {},
     "output_type": "execute_result"
    }
   ],
   "source": [
    "pq.get_max()"
   ]
  },
  {
   "cell_type": "code",
   "execution_count": 210,
   "id": "8c79b140",
   "metadata": {},
   "outputs": [
    {
     "data": {
      "text/plain": [
       "[(7, 'SD'), (6, 'DB'), (2, 'DB'), (4, 'AA'), (1, 'DB')]"
      ]
     },
     "execution_count": 210,
     "metadata": {},
     "output_type": "execute_result"
    }
   ],
   "source": [
    "pq.heap"
   ]
  },
  {
   "cell_type": "code",
   "execution_count": null,
   "id": "596a892e",
   "metadata": {},
   "outputs": [],
   "source": []
  },
  {
   "cell_type": "code",
   "execution_count": null,
   "id": "adf5f987",
   "metadata": {},
   "outputs": [],
   "source": []
  },
  {
   "cell_type": "code",
   "execution_count": 11,
   "id": "40633b17",
   "metadata": {},
   "outputs": [],
   "source": [
    "def maxDifference(px):\n",
    "    \n",
    "    if(len(px) == 0 or len(px) == 1):\n",
    "        return -1\n",
    "        \n",
    "    max_current_difference = -1\n",
    "    min_prev = px[0]\n",
    "    \n",
    "    # using kadane's algorithm - for maximal subarray sum/difference\n",
    "    for i in range(1, len(px)):\n",
    "#         print(max_current_difference)\n",
    "        # max current is the maximum difference\n",
    "        if(px[i] != px[i-1]): # this is to ensure there is no flat line (same quote values)\n",
    "            max_current_difference = max(max_current_difference, px[i] - min_prev)\n",
    "            min_prev = min(px[i], min_prev)\n",
    "        \n",
    "    print(max_current_difference)\n",
    "    return max_current_difference\n",
    "    "
   ]
  },
  {
   "cell_type": "code",
   "execution_count": 15,
   "id": "28d3e398",
   "metadata": {},
   "outputs": [
    {
     "name": "stdout",
     "output_type": "stream",
     "text": [
      "4\n"
     ]
    },
    {
     "data": {
      "text/plain": [
       "4"
      ]
     },
     "execution_count": 15,
     "metadata": {},
     "output_type": "execute_result"
    }
   ],
   "source": [
    "px = [7, 1, 2, 5]\n",
    "# px = [7, 5, 3, 1]\n",
    "# px = [2,3,10, 2,4,8,1]\n",
    "# px = [99999, 99999, 99998, 99996, 99994, 99991, 99990, 99988, 99988, 99986, 99985, 99982, 99980, 99980, 99979, 99979, 99978, 99975, 99973, 99971, 99965, 99963, 99961, 99960, 99957, 99953, 99946]\n",
    "maxDifference(px)"
   ]
  },
  {
   "cell_type": "code",
   "execution_count": 16,
   "id": "4656bb74",
   "metadata": {},
   "outputs": [
    {
     "data": {
      "text/plain": [
       "0"
      ]
     },
     "execution_count": 16,
     "metadata": {},
     "output_type": "execute_result"
    }
   ],
   "source": [
    "0%3"
   ]
  },
  {
   "cell_type": "code",
   "execution_count": 17,
   "id": "7c26d66b",
   "metadata": {},
   "outputs": [
    {
     "data": {
      "text/plain": [
       "0"
      ]
     },
     "execution_count": 17,
     "metadata": {},
     "output_type": "execute_result"
    }
   ],
   "source": [
    "3%3"
   ]
  },
  {
   "cell_type": "code",
   "execution_count": 18,
   "id": "47c1ffc7",
   "metadata": {},
   "outputs": [
    {
     "data": {
      "text/plain": [
       "0"
      ]
     },
     "execution_count": 18,
     "metadata": {},
     "output_type": "execute_result"
    }
   ],
   "source": [
    "6%3"
   ]
  },
  {
   "cell_type": "code",
   "execution_count": null,
   "id": "24d4f1c3",
   "metadata": {},
   "outputs": [],
   "source": []
  },
  {
   "cell_type": "code",
   "execution_count": null,
   "id": "7934f252",
   "metadata": {},
   "outputs": [],
   "source": []
  }
 ],
 "metadata": {
  "kernelspec": {
   "display_name": "Python 3",
   "language": "python",
   "name": "python3"
  },
  "language_info": {
   "codemirror_mode": {
    "name": "ipython",
    "version": 3
   },
   "file_extension": ".py",
   "mimetype": "text/x-python",
   "name": "python",
   "nbconvert_exporter": "python",
   "pygments_lexer": "ipython3",
   "version": "3.7.9"
  }
 },
 "nbformat": 4,
 "nbformat_minor": 5
}
