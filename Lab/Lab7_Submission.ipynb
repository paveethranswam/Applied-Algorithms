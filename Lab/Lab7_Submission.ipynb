{
 "cells": [
  {
   "cell_type": "code",
   "execution_count": 124,
   "id": "262f0075",
   "metadata": {},
   "outputs": [],
   "source": [
    "#### Watch this to understand insert replace delete: https://www.youtube.com/watch?v=We3YDTzNXEk\n",
    "# use dp ( overalapping usbpropblems and optimal substructure)\n",
    "# top-bottom structure\n",
    "def edit_distance(s1, s2):\n",
    "    count = [[0 for x in range(len(s2) + 1)] for y in range(len(s1) + 1)]\n",
    "    # base case if either of s1 or s2 is empty, return the len of other string (as all changes is exactly the other string)        \n",
    "    \n",
    "    if(len(s1) == 0 and len(s2) == 0 ):\n",
    "        return 0\n",
    "\n",
    "    if(len(s1) == 0):\n",
    "        return len(s2)\n",
    "\n",
    "    if(len(s2) == 0):\n",
    "        return len(s1)\n",
    "    \n",
    "    s1 = ' ' + s1\n",
    "    s2 = ' ' + s2\n",
    "\n",
    "    \n",
    "    for i in range(len(s1)):\n",
    "        for j in range(len(s2)):\n",
    "#             print(i,j, count[i][j])\n",
    "#             print( s1[i], s2[j])\n",
    "            \n",
    "            if(i==0):\n",
    "                count[i][j] = j # each op is the character of other string\n",
    "            \n",
    "            elif(j==0): # each op is other string\n",
    "                count[i][j] = i\n",
    "                \n",
    "            \n",
    "            # if values match then, do not do any extra operation...use diagonal value ( last updated value)\n",
    "            elif(s1[i] == s2[j]):\n",
    "#                 print(i,j, count[i-1][j-1], 'ss', s1[i], s2[j])\n",
    "                count[i][j] = count[i-1][j-1]\n",
    "                \n",
    "            else: # in other case, check previous optimal solutions (choose from optimal value of insert or remove or replace)\n",
    "#                 print(i,j)\n",
    "                count[i][j] = min(count[i][j-1], count[i-1][j], count[i-1][j-1]) + 1 # this 1 is for previous optimal value (from those three operations) and another one of insert or remove or repalce value \n",
    "                # i, j-1 is insert, i-1,j is remove, i-1,j-1 is replace\n",
    "                \n",
    "    print(count)\n",
    "    # the minimum value for the full string of checking (checking s1 and s2) will be the last element in the matrix\n",
    "    print('Minimum cost to change is ', count[-1][-1] )\n",
    "    "
   ]
  },
  {
   "cell_type": "code",
   "execution_count": 125,
   "id": "aa883dc9",
   "metadata": {},
   "outputs": [
    {
     "name": "stdout",
     "output_type": "stream",
     "text": [
      "[[0, 1, 2, 3, 4, 5], [1, 0, 1, 2, 3, 4], [2, 1, 0, 1, 2, 3], [3, 2, 1, 0, 1, 2], [4, 3, 2, 1, 1, 2], [5, 4, 3, 2, 2, 2], [6, 5, 4, 3, 2, 3]]\n",
      "Minimum cost to change is  3\n"
     ]
    }
   ],
   "source": [
    "s1 = 'ihtiha'\n",
    "s2 = 'ihtas'\n",
    "edit_distance(s1, s2)"
   ]
  },
  {
   "cell_type": "code",
   "execution_count": 127,
   "id": "1c43c78e",
   "metadata": {},
   "outputs": [
    {
     "name": "stdout",
     "output_type": "stream",
     "text": [
      "[[0, 1, 2, 3, 4, 5, 6, 7, 8], [1, 0, 1, 2, 3, 4, 5, 6, 7], [2, 1, 1, 1, 2, 3, 4, 5, 6], [3, 2, 1, 2, 1, 2, 3, 4, 5], [4, 3, 2, 2, 2, 2, 3, 4, 5], [5, 4, 3, 3, 3, 2, 3, 4, 5], [6, 5, 4, 4, 4, 3, 2, 3, 4], [7, 6, 5, 5, 5, 4, 3, 3, 3], [8, 7, 6, 6, 6, 5, 4, 3, 4]]\n",
      "Minimum cost to change is  4\n"
     ]
    }
   ],
   "source": [
    "s1 = 'dussehra'\n",
    "s2 = 'dsusehar'\n",
    "# print(s2, len(s2))\n",
    "edit_distance(s1, s2)\n",
    "\n"
   ]
  },
  {
   "cell_type": "code",
   "execution_count": 128,
   "id": "f401f0a5",
   "metadata": {},
   "outputs": [
    {
     "name": "stdout",
     "output_type": "stream",
     "text": [
      "[[0, 1, 2, 3, 4, 5, 6], [1, 0, 1, 2, 3, 4, 5], [2, 1, 0, 1, 2, 3, 4], [3, 2, 1, 0, 1, 2, 3], [4, 3, 2, 1, 1, 2, 3], [5, 4, 3, 2, 2, 1, 2], [6, 5, 4, 3, 3, 2, 1]]\n",
      "Minimum cost to change is  1\n"
     ]
    }
   ],
   "source": [
    "s1 = 'cheeks'\n",
    "s2 = 'checks'\n",
    "# print(s2, len(s2))\n",
    "edit_distance(s1, s2)"
   ]
  },
  {
   "cell_type": "code",
   "execution_count": null,
   "id": "787522ca",
   "metadata": {},
   "outputs": [],
   "source": []
  },
  {
   "cell_type": "code",
   "execution_count": 3,
   "id": "de639af4",
   "metadata": {},
   "outputs": [
    {
     "name": "stdout",
     "output_type": "stream",
     "text": [
      "5\n",
      "4\n",
      "3\n",
      "2\n",
      "1\n",
      "0\n"
     ]
    }
   ],
   "source": [
    "for i in range(5, -1, -1):\n",
    "    print(i)"
   ]
  },
  {
   "cell_type": "code",
   "execution_count": 4,
   "id": "6291cac3",
   "metadata": {},
   "outputs": [
    {
     "data": {
      "text/plain": [
       "'a'"
      ]
     },
     "execution_count": 4,
     "metadata": {},
     "output_type": "execute_result"
    }
   ],
   "source": [
    "s = 'abab'\n",
    "s[0]"
   ]
  },
  {
   "cell_type": "code",
   "execution_count": 6,
   "id": "01e3357f",
   "metadata": {},
   "outputs": [
    {
     "data": {
      "text/plain": [
       "'a'"
      ]
     },
     "execution_count": 6,
     "metadata": {},
     "output_type": "execute_result"
    }
   ],
   "source": [
    "s[~1]"
   ]
  },
  {
   "cell_type": "code",
   "execution_count": 8,
   "id": "b6a3c943",
   "metadata": {},
   "outputs": [
    {
     "data": {
      "text/plain": [
       "datetime.datetime(1970, 1, 1, 0, 0)"
      ]
     },
     "execution_count": 8,
     "metadata": {},
     "output_type": "execute_result"
    }
   ],
   "source": [
    "import datetime\n",
    "datetime.datetime.utcfromtimestamp(0)"
   ]
  },
  {
   "cell_type": "code",
   "execution_count": null,
   "id": "c2bcecc1",
   "metadata": {},
   "outputs": [],
   "source": []
  }
 ],
 "metadata": {
  "kernelspec": {
   "display_name": "Python 3",
   "language": "python",
   "name": "python3"
  },
  "language_info": {
   "codemirror_mode": {
    "name": "ipython",
    "version": 3
   },
   "file_extension": ".py",
   "mimetype": "text/x-python",
   "name": "python",
   "nbconvert_exporter": "python",
   "pygments_lexer": "ipython3",
   "version": "3.7.9"
  }
 },
 "nbformat": 4,
 "nbformat_minor": 5
}
