{
 "cells": [
  {
   "cell_type": "code",
   "execution_count": 1,
   "id": "262f0075",
   "metadata": {},
   "outputs": [],
   "source": [
    "# c are courses, and n is sum to find\n",
    "global all_correct\n",
    "all_correct = []\n",
    "\n",
    "def can_take_courses(c, n):\n",
    "    global all_correct\n",
    "#     print(c, 'and', n)\n",
    "    if(n == 0):\n",
    "        return True\n",
    "        \n",
    "    if(len(c) == 1):\n",
    "        return c[0] == n \n",
    "    # either with that element or without that element\n",
    "#     if(can_take_courses(c[1:], n )):\n",
    "#         all_correct.append(n-c[0])\n",
    "\n",
    "    if(can_take_courses(c[1:], n - c[0])):\n",
    "        all_correct.append(n-c[0])\n",
    "    return can_take_courses(c[1:], n) or can_take_courses(c[1:], n - c[0])\n",
    "    \n",
    "    "
   ]
  },
  {
   "cell_type": "code",
   "execution_count": 2,
   "id": "1c43c78e",
   "metadata": {},
   "outputs": [
    {
     "name": "stdout",
     "output_type": "stream",
     "text": [
      "True\n",
      "True\n",
      "False\n",
      "True\n"
     ]
    }
   ],
   "source": [
    "global all_correct\n",
    "all_correct = []\n",
    "\n",
    "a = [0,1,4,2,5]\n",
    "k = 8\n",
    "print(can_take_courses(a, k))\n",
    "\n",
    "a = [1,2,3,4]\n",
    "k=5\n",
    "print(can_take_courses(a, k))\n",
    "\n",
    "a = [2,4,6,8]\n",
    "k = 7\n",
    "print(can_take_courses(a, k))\n",
    "\n",
    "a = [1,2,3,4, 90, 60, 7]\n",
    "k=90\n",
    "print(can_take_courses(a, k))\n"
   ]
  },
  {
   "cell_type": "code",
   "execution_count": 3,
   "id": "f401f0a5",
   "metadata": {},
   "outputs": [
    {
     "name": "stdout",
     "output_type": "stream",
     "text": [
      "[[1, 0, 0, 0, 0, 0, 0, 0, 0, 0], [1, 1, 0, 0, 0, 0, 0, 0, 0, 0], [1, 1, 0, 0, 1, 1, 0, 0, 0, 0], [1, 1, 1, 1, 1, 1, 1, 1, 0, 0], [1, 1, 1, 1, 1, 1, 1, 1, 1, 1]]\n"
     ]
    }
   ],
   "source": [
    "# Iterative approach:\n",
    "# Subset sum\n",
    "\n",
    "a = [0,1,4,2,5]\n",
    "k = 9\n",
    "\n",
    "mat = [[0 for _ in range(9+1)] for _ in range(5)]\n",
    "for i in range(len(a)):\n",
    "    mat[i][0] = 1\n",
    "for i in range(1, k + 1):\n",
    "    mat[0][i] = 0\n",
    "\n",
    "# Information to backtrace and get the subset values\n",
    "bt = [[-1 for _ in range(k + 1)] for _ in range(len(a))]\n",
    "\n",
    "\n",
    "for i in range(1, len(a)):\n",
    "    for j in range(1, k+1):\n",
    "        # if j (current sum) is greater than current value (a[i]), then I should not check the j-a[i] part, because the sume is\n",
    "        # larger anyway, and so it will not satisfy that condition. So only condition you can check is if the previous values \n",
    "        # in the subset hjave satisfied this sum.\n",
    "        if(a[i] > k):\n",
    "            mat[i][j] = mat[i-1][j]\n",
    "            bt[i][j] = -1\n",
    "        else:\n",
    "            mat[i][j] = mat[i-1][j] or mat[i-1][j - a[i]]\n",
    "            if(mat[i][j] == mat[i-1][j]):\n",
    "                bt[i][j] = -1\n",
    "            else:\n",
    "                bt[i][j] = j - a[i]\n",
    "\n",
    "print(mat)\n",
    "        \n"
   ]
  },
  {
   "cell_type": "code",
   "execution_count": 4,
   "id": "787522ca",
   "metadata": {},
   "outputs": [
    {
     "name": "stdout",
     "output_type": "stream",
     "text": [
      "4 9 []\n",
      "j 3 4 [5]\n",
      "3 4 [5]\n",
      "j 2 4 [5]\n",
      "2 4 [5]\n",
      "j 1 0 [5, 4]\n"
     ]
    }
   ],
   "source": [
    "to_find_n = 5\n",
    "jth = k\n",
    "ith = a.index(to_find_n)\n",
    "outputs = []\n",
    "\n",
    "\n",
    "while(jth > 0):\n",
    "    print(ith, jth, outputs)\n",
    "    if(bt[ith][jth] != -1):\n",
    "        outputs.append(a[ith])\n",
    "        jth = bt[ith][jth]\n",
    "        ith = ith - 1\n",
    "    \n",
    "    else:\n",
    "        ith = ith - 1\n",
    "    print('j',ith, jth, outputs)\n",
    "    \n",
    "    "
   ]
  },
  {
   "cell_type": "code",
   "execution_count": 5,
   "id": "de639af4",
   "metadata": {},
   "outputs": [
    {
     "data": {
      "text/plain": [
       "[[-1, -1, -1, -1, -1, -1, -1, -1, -1, -1],\n",
       " [-1, 0, -1, -1, -1, -1, -1, -1, -1, -1],\n",
       " [-1, -1, -1, -1, 0, 1, -1, -1, -1, -1],\n",
       " [-1, -1, 0, 1, -1, -1, 4, 5, -1, -1],\n",
       " [-1, -1, -1, -1, -1, -1, -1, -1, 3, 4]]"
      ]
     },
     "execution_count": 5,
     "metadata": {},
     "output_type": "execute_result"
    }
   ],
   "source": [
    "bt"
   ]
  },
  {
   "cell_type": "code",
   "execution_count": null,
   "id": "6291cac3",
   "metadata": {},
   "outputs": [],
   "source": []
  }
 ],
 "metadata": {
  "kernelspec": {
   "display_name": "Python 3",
   "language": "python",
   "name": "python3"
  },
  "language_info": {
   "codemirror_mode": {
    "name": "ipython",
    "version": 3
   },
   "file_extension": ".py",
   "mimetype": "text/x-python",
   "name": "python",
   "nbconvert_exporter": "python",
   "pygments_lexer": "ipython3",
   "version": "3.7.9"
  }
 },
 "nbformat": 4,
 "nbformat_minor": 5
}
