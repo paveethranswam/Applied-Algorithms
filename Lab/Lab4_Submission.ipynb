{
 "cells": [
  {
   "cell_type": "code",
   "execution_count": 47,
   "id": "c4b0fd9a",
   "metadata": {},
   "outputs": [],
   "source": [
    "import math\n",
    "def find_minimum_in_range( num_list , i, j):\n",
    "    div_value = int(math.sqrt(len(num_list)))\n",
    "    \n",
    "    queryList = []\n",
    "#     print(div_value)\n",
    "    left_elem = []\n",
    "    right_elem = []\n",
    "    min_left = 1000000\n",
    "    min_right = 1000000\n",
    "    min_ql = 1000000\n",
    "    k = 0\n",
    "    \n",
    "    while(k < len(num_list) and k <= j):\n",
    "        start_index = k\n",
    "        end_index = k + div_value\n",
    "        \n",
    "        if( i > start_index and i < end_index-1):\n",
    "            left_elem = num_list[i: end_index]\n",
    "            \n",
    "        elif(j > start_index and j < end_index - 1):\n",
    "            right_elem = num_list[start_index: j+1]\n",
    "            \n",
    "        else:\n",
    "            queryList.append(  min(num_list[start_index:end_index] ) )\n",
    "                        \n",
    "        k = k+div_value\n",
    "    \n",
    "    print('left',left_elem)\n",
    "    print('ql',queryList)\n",
    "    print('right',right_elem)\n",
    "    \n",
    "    if(left_elem):\n",
    "        min_left = min(left_elem)\n",
    "    if(right_elem):\n",
    "        min_right = min(right_elem)\n",
    "    if(queryList):\n",
    "        min_ql = min(queryList)\n",
    "    \n",
    "    print('minimum', min( min_left, min_ql, min_right ))\n",
    "    \n",
    "    "
   ]
  },
  {
   "cell_type": "code",
   "execution_count": 48,
   "id": "638eb168",
   "metadata": {},
   "outputs": [
    {
     "name": "stdout",
     "output_type": "stream",
     "text": [
      "left []\n",
      "ql [69, 19]\n",
      "right []\n",
      "minimum 19\n"
     ]
    }
   ],
   "source": [
    "num_list = [70, 78, 69, 96, 19, 68, 54, 60, 1, 2 ,3, 4, 5, 6, 7, 8 ]\n",
    "i = 0\n",
    "j = 7\n",
    "find_minimum_in_range(num_list, i, j)\n"
   ]
  },
  {
   "cell_type": "code",
   "execution_count": 49,
   "id": "14c2f988",
   "metadata": {},
   "outputs": [
    {
     "name": "stdout",
     "output_type": "stream",
     "text": [
      "left [69, 96]\n",
      "ql [19, 1]\n",
      "right [5, 6, 7]\n",
      "minimum 1\n"
     ]
    }
   ],
   "source": [
    "num_list = [70, 78, 69, 96, 19, 68, 54, 60, 1, 2 ,3, 4, 5, 6, 7, 8 ]\n",
    "i = 2\n",
    "j = 14\n",
    "find_minimum_in_range(num_list, i, j)\n",
    "\n"
   ]
  },
  {
   "cell_type": "code",
   "execution_count": 50,
   "id": "07298062",
   "metadata": {},
   "outputs": [
    {
     "name": "stdout",
     "output_type": "stream",
     "text": [
      "left [69, 96]\n",
      "ql []\n",
      "right [19, 68, 54]\n",
      "minimum 19\n"
     ]
    }
   ],
   "source": [
    "\n",
    "num_list = [70, 78, 69, 96, 19, 68, 54, 60, 1, 2 ,3, 4, 5, 6, 7, 8 ]\n",
    "i = 2\n",
    "j = 6\n",
    "find_minimum_in_range(num_list, i, j)\n"
   ]
  },
  {
   "cell_type": "code",
   "execution_count": null,
   "id": "aa899f1b",
   "metadata": {},
   "outputs": [],
   "source": []
  },
  {
   "cell_type": "code",
   "execution_count": null,
   "id": "164a1c45",
   "metadata": {},
   "outputs": [],
   "source": []
  }
 ],
 "metadata": {
  "kernelspec": {
   "display_name": "Python 3",
   "language": "python",
   "name": "python3"
  },
  "language_info": {
   "codemirror_mode": {
    "name": "ipython",
    "version": 3
   },
   "file_extension": ".py",
   "mimetype": "text/x-python",
   "name": "python",
   "nbconvert_exporter": "python",
   "pygments_lexer": "ipython3",
   "version": "3.7.9"
  }
 },
 "nbformat": 4,
 "nbformat_minor": 5
}
