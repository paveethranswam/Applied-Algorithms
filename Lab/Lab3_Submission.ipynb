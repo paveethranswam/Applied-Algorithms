{
 "cells": [
  {
   "cell_type": "code",
   "execution_count": 40,
   "id": "a35a9e30",
   "metadata": {},
   "outputs": [],
   "source": [
    "# def is_valid_parenthesis(s):\n",
    "    \n",
    "#     stack = []\n",
    "#     i = 0\n",
    "#     if(len(s) > 0):\n",
    "\n",
    "#         # if stack empty push element\n",
    "#         if(len(stack) == 0):\n",
    "#             stack.insert(0, s[i])\n",
    "        \n",
    "# #         i = 1\n",
    "#         while(stack and i+1<len(s)):\n",
    "            \n",
    "#             print(stack, i, len(s) )\n",
    "#             last_elem = stack.pop()\n",
    "#             i+=1\n",
    "#             if(last_elem == \"{\" and s[i]!= \"}\"):\n",
    "#                 return False\n",
    "#             if(last_elem == \"[\" and s[i]!= \"]\"):\n",
    "#                 return False\n",
    "#             if(last_elem == \"(\" and s[i]!= \")\"):\n",
    "#                 return False\n",
    "            \n",
    "#             if(i+1 < len(s)):\n",
    "#                 i+=1\n",
    "#                 stack.insert(0, s[i])\n",
    "            \n",
    "        \n",
    "#         return True\n",
    "        \n",
    "#     else:\n",
    "#         return False\n",
    "    \n",
    "\n",
    "def is_valid_parenthesis(s):\n",
    "    \n",
    "    stack = []\n",
    "    char_d = {'{':'}', '(': ')', '[': ']'}\n",
    "    \n",
    "    if(len(s) > 0): # if atleast some bracket is present\n",
    "        for value in s:\n",
    "            if(char_d.get(value) != None):\n",
    "                if(len(stack) != 0):\n",
    "                    return False\n",
    "                stack.append(value)\n",
    "            else: # push only non-opening brackets\n",
    "                if(len(stack) == 0): # found closing bracket without its opening value\n",
    "                    return False\n",
    "                last_elem = stack.pop()\n",
    "                if(char_d[last_elem] != value):\n",
    "                    return False        \n",
    "        return True\n",
    "    else:\n",
    "        return False"
   ]
  },
  {
   "cell_type": "code",
   "execution_count": 45,
   "id": "d2c0bdbe",
   "metadata": {},
   "outputs": [
    {
     "name": "stdout",
     "output_type": "stream",
     "text": [
      "True\n",
      "True\n",
      "False\n",
      "False\n"
     ]
    }
   ],
   "source": [
    "print(is_valid_parenthesis('[]'))\n",
    "print(is_valid_parenthesis('[](){}()'))\n",
    "print(is_valid_parenthesis('[](){}[()'))\n",
    "print(is_valid_parenthesis('[](){}{}{}()]'))\n"
   ]
  },
  {
   "cell_type": "code",
   "execution_count": null,
   "id": "d50464af",
   "metadata": {},
   "outputs": [],
   "source": []
  }
 ],
 "metadata": {
  "kernelspec": {
   "display_name": "Python 3",
   "language": "python",
   "name": "python3"
  },
  "language_info": {
   "codemirror_mode": {
    "name": "ipython",
    "version": 3
   },
   "file_extension": ".py",
   "mimetype": "text/x-python",
   "name": "python",
   "nbconvert_exporter": "python",
   "pygments_lexer": "ipython3",
   "version": "3.7.9"
  }
 },
 "nbformat": 4,
 "nbformat_minor": 5
}
