{
 "cells": [
  {
   "cell_type": "code",
   "execution_count": 25,
   "id": "df2b67a0",
   "metadata": {},
   "outputs": [],
   "source": [
    "# Q1\n",
    "def commands_count(commands):\n",
    "\n",
    "    queue_past = []\n",
    "    command_count_dict = {'ls':0, 'mv':0, 'cp':0}\n",
    "    index = 0\n",
    "\n",
    "    # Use dict to pre-store values of !<index>b\n",
    "    def recursive_soln(commands, index, command_count_dict):\n",
    "        # make it recursive if the value is like '!<index>''\n",
    "        if(commands[index][0] == '!' ):\n",
    "            recursive_soln(commands[:int(commands[index][1])], int(commands[index][1]) -1 , command_count_dict )\n",
    "            return\n",
    "\n",
    "        elif(len(commands) == 1):\n",
    "            command_count_dict[commands[index]]+=1\n",
    "            index += 1\n",
    "            return\n",
    "\n",
    "        while(index < len(commands)):\n",
    "            if(commands[index][0] == '!'):\n",
    "                recursive_soln(commands, index, command_count_dict)\n",
    "            else:\n",
    "                command_count_dict[commands[index]]+=1\n",
    "\n",
    "            index += 1\n",
    "\n",
    "        return command_count_dict\n",
    "    \n",
    "    return recursive_soln(commands, index, command_count_dict)\n",
    "    "
   ]
  },
  {
   "cell_type": "code",
   "execution_count": 32,
   "id": "e6fe5c96",
   "metadata": {},
   "outputs": [
    {
     "name": "stdout",
     "output_type": "stream",
     "text": [
      "1 3 4\n",
      "1 4 5\n"
     ]
    }
   ],
   "source": [
    "commands = [\"ls\", \"cp\", \"mv\", \"mv\", \"mv\", \"!1\", \"!3\", \"!6\"]\n",
    "result = commands_count(commands)\n",
    "print(result['cp'], result['ls'], result['mv'])\n",
    "\n",
    "commands = [\"ls\", \"cp\", \"mv\", \"mv\", \"mv\", \"!1\", \"!3\", \"!6\", \"!6\", \"!7\"]\n",
    "result = commands_count(commands)\n",
    "print(result['cp'], result['ls'], result['mv'])\n"
   ]
  },
  {
   "cell_type": "code",
   "execution_count": null,
   "id": "5908aa01",
   "metadata": {},
   "outputs": [],
   "source": []
  },
  {
   "cell_type": "code",
   "execution_count": null,
   "id": "636681f2",
   "metadata": {},
   "outputs": [],
   "source": []
  },
  {
   "cell_type": "code",
   "execution_count": 106,
   "id": "8e08b755",
   "metadata": {},
   "outputs": [],
   "source": [
    "# Q4\n",
    "def predict_winner(s):\n",
    "    \n",
    "    a_stack = []\n",
    "    o_stack = []\n",
    "    ao_dict = {'a':0, 'o':0}\n",
    "    \n",
    "    for i in range(len(s)):\n",
    "        if(s[i] == 'a'):\n",
    "            a_stack.append( (s[i], i ) )\n",
    "        if(s[i] == 'o'):\n",
    "            o_stack.append( (s[i], i ) )\n",
    "    \n",
    "    a_point = 0\n",
    "    o_point = 0\n",
    "    \n",
    "    a_index = 0\n",
    "    o_index = 0\n",
    "    \n",
    "    winner = ''\n",
    "    prev_index = 0\n",
    "    \n",
    "    # Exit this loop when one of the stacks is empty\n",
    "    while(o_stack and a_stack):\n",
    "#         print(a_stack, o_stack, a_index, o_index, prev_index)\n",
    "\n",
    "        # Base case where -999 of a_index or o_index means they have hit the last occurence of that character and no more left\n",
    "        # In that case, it will jump over to the other stack and keep the process going\n",
    "        if(o_index == -999 ):\n",
    "            next_elem = a_stack[a_index][0]\n",
    "        elif(a_index == -999 ):\n",
    "            next_elem = o_stack[o_index][0]\n",
    "        \n",
    "        \n",
    "        # If current index of both stacks have not reached top element, then keep popping and increment index\n",
    "        if(o_index != -999 and a_index != -999 and a_stack[a_index][1] < o_stack[o_index][1] and a_stack[a_index][1] >= prev_index):\n",
    "            next_elem = a_stack[a_index][0]\n",
    "\n",
    "        elif(o_index != -999 and a_index != -999 and a_stack[a_index][1] > o_stack[o_index][1] and o_stack[o_index][1] >= prev_index):\n",
    "            next_elem = o_stack[o_index][0]\n",
    "        \n",
    "        # If current character is a , then pop from o_stack. Once popped, increment index of a_stack but make index of o_stack 0\n",
    "        if(next_elem == 'a'):\n",
    "            o_stack.pop(0)\n",
    "            if(o_index != 0 and o_index != -999): # case where they have hit the last occurence of that character and no more left, do no use this element to re-compare with other values. It's already done with this element. So blocked out (-999) this value\n",
    "                o_index -=1\n",
    "            if(a_index != -999):\n",
    "                if(a_index + 1 >= len(a_stack)):\n",
    "                    a_index = -999\n",
    "                else:\n",
    "                    prev_index = a_stack[a_index][1]\n",
    "                    a_index +=1\n",
    "        \n",
    "        # If current character is o , then pop from a_stack. Once popped, increment index of o_stack but make index of a_stack 0\n",
    "        else:\n",
    "            a_stack.pop(0)\n",
    "            if(a_index != 0 and a_index != -999): # Once popped, if it is not first element or blocked element(-999), reduce counter\n",
    "                a_index -= 1\n",
    "            if(o_index != -999):\n",
    "                if(o_index + 1 >= len(o_stack)): # case where they have hit the last occurence of that character and no more left, do no use this element to re-compare with other values. It's already done with this element\n",
    "                    o_index = -999\n",
    "                else:\n",
    "                    prev_index = o_stack[o_index][1]\n",
    "                    o_index +=1    \n",
    "                    \n",
    "#     print(a_stack, o_stack)\n",
    "    if(o_stack):\n",
    "        return 'orange'\n",
    "    else:\n",
    "        return 'apple'\n"
   ]
  },
  {
   "cell_type": "code",
   "execution_count": 108,
   "id": "07c0be60",
   "metadata": {},
   "outputs": [
    {
     "name": "stdout",
     "output_type": "stream",
     "text": [
      "apple\n",
      "apple\n",
      "orange\n",
      "apple\n",
      "orange\n"
     ]
    }
   ],
   "source": [
    "s = 'aooa'\n",
    "print(predict_winner(s))\n",
    "\n",
    "s = 'ao'\n",
    "print(predict_winner(s))\n",
    "\n",
    "s = 'aoo'\n",
    "print(predict_winner(s))\n",
    "\n",
    "s = 'aoaooa'\n",
    "print(predict_winner(s))\n",
    "\n",
    "s = 'aoaooaoo'\n",
    "print(predict_winner(s))"
   ]
  },
  {
   "cell_type": "code",
   "execution_count": null,
   "id": "27378b7e",
   "metadata": {},
   "outputs": [],
   "source": []
  },
  {
   "cell_type": "code",
   "execution_count": null,
   "id": "4f322d28",
   "metadata": {},
   "outputs": [],
   "source": []
  },
  {
   "cell_type": "code",
   "execution_count": 117,
   "id": "c7d589f9",
   "metadata": {},
   "outputs": [
    {
     "ename": "SyntaxError",
     "evalue": "invalid syntax (<ipython-input-117-7c0531cffdfc>, line 4)",
     "output_type": "error",
     "traceback": [
      "\u001b[1;36m  File \u001b[1;32m\"<ipython-input-117-7c0531cffdfc>\"\u001b[1;36m, line \u001b[1;32m4\u001b[0m\n\u001b[1;33m    def __init__\u001b[0m\n\u001b[1;37m                ^\u001b[0m\n\u001b[1;31mSyntaxError\u001b[0m\u001b[1;31m:\u001b[0m invalid syntax\n"
     ]
    }
   ],
   "source": [
    "# Q3\n",
    "class Node():\n",
    "    \n",
    "    def __init__(self, value):\n",
    "        self.value = value\n",
    "        self.previous = None\n",
    "        self.next = None\n",
    "        self.above = None\n",
    "        self.below = None\n",
    "    \n",
    "    \n",
    "class LookUpSkipList():\n",
    "    \n",
    "    # we need to initialize nodes\n",
    "    \n",
    "    \n",
    "    # Initializing constructors\n",
    "    def __init__(self, words, p):\n",
    "        words.sort()\n",
    "        self.head(Node)\n",
    "        \n",
    "    \n",
    "    \n",
    "    "
   ]
  },
  {
   "cell_type": "code",
   "execution_count": null,
   "id": "f003e864",
   "metadata": {},
   "outputs": [],
   "source": []
  },
  {
   "cell_type": "code",
   "execution_count": null,
   "id": "b4b53546",
   "metadata": {},
   "outputs": [],
   "source": []
  }
 ],
 "metadata": {
  "kernelspec": {
   "display_name": "Python 3",
   "language": "python",
   "name": "python3"
  },
  "language_info": {
   "codemirror_mode": {
    "name": "ipython",
    "version": 3
   },
   "file_extension": ".py",
   "mimetype": "text/x-python",
   "name": "python",
   "nbconvert_exporter": "python",
   "pygments_lexer": "ipython3",
   "version": "3.7.9"
  }
 },
 "nbformat": 4,
 "nbformat_minor": 5
}
