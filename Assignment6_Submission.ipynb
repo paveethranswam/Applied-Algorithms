{
 "cells": [
  {
   "cell_type": "code",
   "execution_count": null,
   "id": "88819a0b",
   "metadata": {},
   "outputs": [],
   "source": []
  },
  {
   "cell_type": "markdown",
   "id": "4c87d972-8179-4a63-b161-067b3d4ccea2",
   "metadata": {},
   "source": [
    "## Problem 1"
   ]
  },
  {
   "cell_type": "markdown",
   "id": "567d1b54-ef68-498d-9beb-7bb04ccee648",
   "metadata": {},
   "source": [
    "#### Could not solve this question fully"
   ]
  },
  {
   "cell_type": "code",
   "execution_count": 541,
   "id": "d9bb7966-accf-462e-8ec6-c6548e85df32",
   "metadata": {},
   "outputs": [],
   "source": [
    "def function1(a,b):\n",
    "    return a+b\n",
    "\n",
    "def function2(a,b):\n",
    "    return a*b\n",
    "\n",
    "def function3(a,b):\n",
    "    return int(str(a) + str(b))\n",
    "    \n",
    "def min_ones(n):\n",
    "    # Initialize dp table with length as list length\n",
    "    dp = [i for i in range(n+1)]\n",
    "    \n",
    "#     dp[0] = 1\n",
    "#     dp[1] = 1\n",
    "    # Starting from 3 - because need to check previous two values from 1 to (i+1//2) in base case\n",
    "    # for i in range(3,n+1):\n",
    "    #     # print('i ', i, (i+1)//2)    \n",
    "    #     v1 = function()\n",
    "    \n",
    "    if(n == 1):\n",
    "        return 1\n",
    "    \n",
    "    # return min( min_ones(n-1, 1)) \n"
   ]
  },
  {
   "cell_type": "code",
   "execution_count": 542,
   "id": "79413612-257f-4284-9068-f21dfa088bba",
   "metadata": {},
   "outputs": [
    {
     "data": {
      "text/plain": [
       "1"
      ]
     },
     "execution_count": 542,
     "metadata": {},
     "output_type": "execute_result"
    }
   ],
   "source": [
    "min_ones(1)"
   ]
  },
  {
   "cell_type": "code",
   "execution_count": null,
   "id": "d94e89b8-9a1b-4a28-86cb-256b8bcd8510",
   "metadata": {},
   "outputs": [],
   "source": []
  },
  {
   "cell_type": "markdown",
   "id": "2b169359",
   "metadata": {},
   "source": [
    "## Problem 2"
   ]
  },
  {
   "cell_type": "code",
   "execution_count": 509,
   "id": "ad99a1ed",
   "metadata": {},
   "outputs": [],
   "source": [
    "def max_steps(grid):\n",
    "    \n",
    "    dp = [[-1]*len(grid[0])]*len(grid)\n",
    "    dp =  np.array(dp) \n",
    "    max_value = -100\n",
    "\n",
    "    # now loop over all characters to try over all starting grid positions\n",
    "    for i in range(len(grid)):\n",
    "        for j in range(len(grid[0])):\n",
    "            # to stop early (when no values of the dp array is -1) - which means all index are all computed so no need to continue.\n",
    "            if(len(dp[dp==-1]) == 0):\n",
    "                break\n",
    "            _, dp, max_value  = robot_max_steps(grid, len(grid), len(grid[0]), (i,j), dp, max_value )\n",
    "\n",
    "    return max_value\n",
    "\n",
    "\n",
    "def robot_max_steps(grid, rows, cols, curr_box, dp, max_value): # curr_box and next_box are tuples containing (x,y) coordinates\n",
    "    import numpy as np\n",
    "    # check if the index is beyond the box boundary\n",
    "    if(curr_box[0] >= rows or curr_box[1] >= cols or curr_box[0] < 0 or curr_box[1] < 0 ):\n",
    "        return 0, dp, max_value   \n",
    "    \n",
    "    # if not movable to next box\n",
    "    bottom, top, left, right = 0,0,0,0\n",
    "    \n",
    "    curr_char = grid[curr_box[0]][curr_box[1]] # get current character\n",
    "    \n",
    "    if(curr_box[0] + 1 < rows and curr_char < grid[curr_box[0] + 1][curr_box[1]]): # check with bottom character\n",
    "        if( dp[curr_box[0] + 1][curr_box[1]]!=-1 ): # if value already computed, then take from the table\n",
    "            bottom = 1 + dp[curr_box[0] + 1][curr_box[1]]\n",
    "        else:\n",
    "            b_val,dp, max_value =  robot_max_steps(grid, rows, cols, (curr_box[0]+1, curr_box[1]), dp, max_value) # if no value in dp, then recursively compute maximum steps possible from this index\n",
    "            bottom = 1 + b_val\n",
    "       \n",
    "    if(curr_box[0] - 1 >= 0 and curr_char < grid[curr_box[0] - 1][curr_box[1]]): # check with top character\n",
    "        if( dp[curr_box[0] - 1][curr_box[1]]!=-1 ): # if value already computed, then take from the table\n",
    "            top = 1 + dp[curr_box[0] - 1][curr_box[1]]\n",
    "        else:\n",
    "            t_val,dp, max_value = robot_max_steps(grid, rows, cols, (curr_box[0]-1, curr_box[1]), dp, max_value) # if no value in dp, then recursively compute maximum steps possible from this index\n",
    "            top = 1 + t_val\n",
    "        \n",
    "    if(curr_box[1] - 1 >= 0 and curr_char < grid[curr_box[0]][curr_box[1] - 1]): # check with left character\n",
    "        if( dp[curr_box[0]][curr_box[1] - 1]!=-1 ): # if value already computed, then take from the table\n",
    "            left = 1 + dp[curr_box[0]][curr_box[1] - 1]\n",
    "        else:\n",
    "            l_val,dp, max_value = robot_max_steps(grid, rows, cols, (curr_box[0], curr_box[1]-1), dp, max_value) # if no value in dp, then recursively compute maximum steps possible from this index\n",
    "            left = 1 + l_val\n",
    "        \n",
    "    if( curr_box[1] + 1 < cols and curr_char < grid[curr_box[0]][curr_box[1] + 1]): # check with right character\n",
    "        if( dp[curr_box[0]][curr_box[1] + 1]!=-1 ): # if value already computed, then take from the table\n",
    "            right = 1 + dp[curr_box[0]][curr_box[1] + 1]\n",
    "        else:\n",
    "            r_val,dp, max_value = robot_max_steps(grid, rows, cols, (curr_box[0], curr_box[1]+1), dp, max_value) # if no value in dp, then recursively compute maximum steps possible from this index\n",
    "            right = 1 + r_val \n",
    "    \n",
    "    dp[curr_box[0]][curr_box[1]] = max(left, right, top, bottom)\n",
    "    # print('final at ', grid[curr_box[0]][curr_box[1]], ' is ', dp[curr_box[0]][curr_box[1]], dp)\n",
    "    return max(bottom, top, left, right), dp, max(max_value, dp[curr_box[0]][curr_box[1]])\n",
    "    \n",
    "    "
   ]
  },
  {
   "cell_type": "code",
   "execution_count": 543,
   "id": "83a697dc",
   "metadata": {},
   "outputs": [
    {
     "name": "stdout",
     "output_type": "stream",
     "text": [
      "2\n"
     ]
    }
   ],
   "source": [
    "grid = [['d', 'b'], ['c', 'a']]\n",
    "\n",
    "print(max_steps(grid))\n"
   ]
  },
  {
   "cell_type": "code",
   "execution_count": 544,
   "id": "f51ce635-8b50-4720-9d9e-52f7d1ad4161",
   "metadata": {},
   "outputs": [
    {
     "name": "stdout",
     "output_type": "stream",
     "text": [
      "4\n"
     ]
    }
   ],
   "source": [
    "grid = [['t', 'o', 'y'], ['c', 'a', 't'], ['t', 'o', 'p']]\n",
    "\n",
    "print(max_steps(grid))"
   ]
  },
  {
   "cell_type": "code",
   "execution_count": 545,
   "id": "f5057ca9-57ab-4983-947c-996867821b4e",
   "metadata": {},
   "outputs": [
    {
     "name": "stdout",
     "output_type": "stream",
     "text": [
      "2\n"
     ]
    }
   ],
   "source": [
    "grid = [['a', 'b'], ['a', 'a'], ['a', 'e'], ['a', 'f'], ['a', 'a'], ['a', 'a']]\n",
    "\n",
    "print(max_steps(grid))\n"
   ]
  },
  {
   "cell_type": "code",
   "execution_count": 546,
   "id": "817c0b48-da15-4c2d-9b91-188d36bd4d51",
   "metadata": {},
   "outputs": [
    {
     "name": "stdout",
     "output_type": "stream",
     "text": [
      "7\n"
     ]
    }
   ],
   "source": [
    "grid = [['g', 'f', 'e'], ['z', 'a', 'd'], ['x', 'b' ,'c']]\n",
    "\n",
    "print(max_steps(grid))\n"
   ]
  },
  {
   "cell_type": "code",
   "execution_count": null,
   "id": "4c16d28b-0ebd-4c70-8cb8-89ee79938b6e",
   "metadata": {},
   "outputs": [],
   "source": []
  },
  {
   "cell_type": "markdown",
   "id": "568dec22-898a-4136-93f4-9675ba748bb2",
   "metadata": {},
   "source": [
    "## Problem 3"
   ]
  },
  {
   "cell_type": "code",
   "execution_count": 547,
   "id": "9e4ce7a8",
   "metadata": {},
   "outputs": [],
   "source": [
    "def get_max_coconuts(arr):\n",
    "    # if(i >= len(arr)):\n",
    "    #     return 0\n",
    "    dp = [-1]*len(nums)\n",
    "    dp[0] = arr[0]\n",
    "    dp[1] = max(arr[:2])\n",
    "    \n",
    "    for i in range(2, len(arr)):\n",
    "        dp[i] = max(arr[i], arr[i]+dp[i-2], dp[i-1]) # finding the maximum of three sub parts - the current value itself (doing this because this will work for negative values also),\n",
    "                                                     # the current value added with the previous maximum of the subsequence i-2nd index and the maximum till i-1th index. The dp of\n",
    "                                                     # current element is the maximum of all these three sub-parts.\n",
    "        \n",
    "    # return max(arr[i], arr[i] + get_max_coconuts(arr, i+2), get_max_coconuts(arr, i+1))\n",
    "    return dp[-1]\n",
    "    "
   ]
  },
  {
   "cell_type": "code",
   "execution_count": 548,
   "id": "191647a4",
   "metadata": {},
   "outputs": [
    {
     "data": {
      "text/plain": [
       "12"
      ]
     },
     "execution_count": 548,
     "metadata": {},
     "output_type": "execute_result"
    }
   ],
   "source": [
    "nums = [2,7,9,3,1]\n",
    "\n",
    "get_max_coconuts(nums)\n"
   ]
  },
  {
   "cell_type": "code",
   "execution_count": 549,
   "id": "a6dd4832",
   "metadata": {},
   "outputs": [
    {
     "data": {
      "text/plain": [
       "10"
      ]
     },
     "execution_count": 549,
     "metadata": {},
     "output_type": "execute_result"
    }
   ],
   "source": [
    "nums = [2, 1, 4, 8, 1]\n",
    "\n",
    "get_max_coconuts(nums)\n"
   ]
  },
  {
   "cell_type": "code",
   "execution_count": 550,
   "id": "b17fb280-15a9-404f-a0d0-9ef8e536c7cd",
   "metadata": {},
   "outputs": [
    {
     "data": {
      "text/plain": [
       "31"
      ]
     },
     "execution_count": 550,
     "metadata": {},
     "output_type": "execute_result"
    }
   ],
   "source": [
    "nums = [12, 21, -44, -8, 10]\n",
    "\n",
    "get_max_coconuts(nums)"
   ]
  },
  {
   "cell_type": "code",
   "execution_count": null,
   "id": "a046a880-f668-4a56-ac4d-44b0702cb1ab",
   "metadata": {},
   "outputs": [],
   "source": []
  },
  {
   "cell_type": "markdown",
   "id": "7fe1c8c1-e935-4586-ab43-6ad0fe422b28",
   "metadata": {},
   "source": [
    "## Problem 4"
   ]
  },
  {
   "cell_type": "code",
   "execution_count": 551,
   "id": "9a28b38f",
   "metadata": {},
   "outputs": [],
   "source": [
    "def backtracking(backtrack,i,j, final):\n",
    "    \n",
    "    if(i <= 0 or j <= 0 ):\n",
    "        return 0;\n",
    "        \n",
    "    if(backtrack[i][j] == -1): # cam from previous upper dp - because this value was not included in the subset\n",
    "        return backtracking(backtrack, i-1, j, final), final\n",
    "        \n",
    "    final.append(arr[i-1])\n",
    "    return backtracking(backtrack, i-1, backtrack[i][j], final), final\n",
    "    \n",
    "    \n",
    "def subset_divisible(arr, target):\n",
    "    # initialize dp table and backtracking table\n",
    "    dp = [[0 for i in range(sum(arr)+1)] for j in range(len(arr)+1)]\n",
    "    backtrack = [[-1 for i in range(sum(arr)+1)] for j in range(len(arr)+1)]\n",
    "    \n",
    "    for i in range(len(arr)+1):\n",
    "        dp[i][0] = 1 # all sum to 0 is true for any set\n",
    "        \n",
    "    for i in range(1, len(arr)+1):\n",
    "        for j in range(1, sum(arr)+1):\n",
    "            \n",
    "            # if current element is greater than the current sum, then use previous row's dp value (current element will not be included)\n",
    "            if(arr[i-1] > j):\n",
    "                dp[i][j] = dp[i-1][j]\n",
    "                \n",
    "            # if not, then compare if including this element in the subset leads to the current sum(for every sum from 0 to target sum)\n",
    "            # or not - assuming the previous dp values are filled\n",
    "            else:\n",
    "                dp[i][j] = dp[i-1][j] or dp[i-1][j - arr[i-1]]\n",
    "                \n",
    "                # for backtracking, save the index from which the current dp got filled \n",
    "                # (only save if the value is True or sum exists in the subset if this element is included)\n",
    "                backtrack[i][j] = j-arr[i-1] if dp[i-1][j-arr[i-1]] == 1 else -1\n",
    "      \n",
    "    # At this point, we have calculated the dp table and backtracking table considering all possible sum of values upto the maximum sum achievable (which is the total sum of array)\n",
    "    # So the multiples of sumbset sums should be definitely less than or equal to the maximum sum of the array. So example arr = [5,9,1], target = 7, the total max sum is 15\n",
    "    # and the only multiples of 7 that could be possible are 7 and 14. Not more than that. So we backtrack for all possible multiples to see if there exists a solution.\n",
    "    \n",
    "    all_finals = []\n",
    "    for k in range(sum(arr)+1):\n",
    "        if(k%target == 0 and k !=0):\n",
    "            final = []\n",
    "            _, final =  backtracking(backtrack, len(arr), k, final)     # All possible subsets that have sum which is divisble by target value\n",
    "            if(len(final)>0 ):\n",
    "                all_finals.append(final)\n",
    "    return all_finals\n",
    "\n",
    "    \n",
    "    "
   ]
  },
  {
   "cell_type": "code",
   "execution_count": 552,
   "id": "c68f793c",
   "metadata": {},
   "outputs": [
    {
     "name": "stdout",
     "output_type": "stream",
     "text": [
      "[[5, 1], [5, 7]]\n"
     ]
    }
   ],
   "source": [
    "arr = [3,1,7,5]\n",
    "target = 6\n",
    "final_subset = subset_divisible(arr, target)\n",
    "print(final_subset)  # generating all possible valid ssubsets whose sum is divisible by target"
   ]
  },
  {
   "cell_type": "code",
   "execution_count": 553,
   "id": "121c8859",
   "metadata": {},
   "outputs": [
    {
     "name": "stdout",
     "output_type": "stream",
     "text": [
      "[]\n"
     ]
    }
   ],
   "source": [
    "arr = [1,6]\n",
    "target = 5\n",
    "final_subset = subset_divisible(arr, target)\n",
    "print(final_subset)"
   ]
  },
  {
   "cell_type": "code",
   "execution_count": 554,
   "id": "24a10882-35be-4784-8d72-65c5b6fdf1d3",
   "metadata": {},
   "outputs": [
    {
     "name": "stdout",
     "output_type": "stream",
     "text": [
      "[[4, 1, 1]]\n"
     ]
    }
   ],
   "source": [
    "arr = [1,1,4]\n",
    "target = 6\n",
    "final_subset = subset_divisible(arr, target)\n",
    "print(final_subset) "
   ]
  },
  {
   "cell_type": "code",
   "execution_count": 555,
   "id": "ce677a74-958f-46e3-aef7-e157ffbe0059",
   "metadata": {},
   "outputs": [
    {
     "name": "stdout",
     "output_type": "stream",
     "text": [
      "[[7], [9, 5], [7, 9, 5]]\n"
     ]
    }
   ],
   "source": [
    "arr = [5, 9, 1, 7]\n",
    "target = 7\n",
    "final_subset = subset_divisible(arr, target)\n",
    "print(final_subset) "
   ]
  },
  {
   "cell_type": "code",
   "execution_count": null,
   "id": "1c0b20ed-d852-4c99-a994-32f3270a2db3",
   "metadata": {},
   "outputs": [],
   "source": []
  },
  {
   "cell_type": "markdown",
   "id": "cf01f8eb-6c5f-41fc-9ecf-841461bc5ea9",
   "metadata": {},
   "source": [
    "## Problem 5"
   ]
  },
  {
   "cell_type": "code",
   "execution_count": 556,
   "id": "6de3d9ba",
   "metadata": {},
   "outputs": [],
   "source": [
    "def get_max_sbstr(s, c1, c2):\n",
    "    \n",
    "    # Maximum is always at the ends (either begin or end). So assuming I add an c1 or c2 at the extreme ends, start iteration from value 1,\n",
    "    # Only two cases is when c1 is at the beginning and c2 is at the end. We do not need to calculate c2 at beginning or c1 at the end (will always give non optimal solution)\n",
    "    \n",
    "    # so assuming there is a c1 at the beginning , so intializing dp T array by 1 (this T array keeps track of occurences of c1)\n",
    "    T = [0]*( len(s)+1 )\n",
    "    T[0] = 1\n",
    "    g_c1 = 0 # keeps global track of c1c2 occurences when parsing from the beginning with b at the start of the string\n",
    "    ans = 0\n",
    "    \n",
    "    # Adding b at the beginning\n",
    "    for i in range(1, len(s)+1):\n",
    "        if(s[i-1] == c1):\n",
    "            T[i] = T[i-1] + 1\n",
    "        elif(s[i-1] == c2):\n",
    "            g_c1+= T[i-1]*1\n",
    "            T[i] = T[i-1]\n",
    "        else:\n",
    "            T[i] = T[i-1]\n",
    "    \n",
    "    \n",
    "    # Using the same T array again - no new memory allocation\n",
    "    # so assuming there is a c2 at the beginning , so intializing dp T array by 1 (this T array keeps track of occurences of c2)\n",
    "    # Adding d at the end\n",
    "    T = [0]*( len(s)+1 )\n",
    "    T[len(s)] = 1\n",
    "    # This time we parse from reverse direction, to compute maximum value of c1c2 when c2 is checked from reverse\n",
    "    g_c2 = 0 # keeps global track of c1c2 occurences when parsing from the end with c2 at the end of the string\n",
    "    for i in range(len(s)-1, -1, -1):\n",
    "        if(s[i] == c2):\n",
    "            T[i] = T[i+1] + 1\n",
    "        elif(s[i] == c1):\n",
    "            g_c2+= T[i+1]*1\n",
    "            T[i] = T[i+1]\n",
    "        else:\n",
    "            T[i] = T[i+1]\n",
    "            \n",
    "    ans = max(g_c1, g_c2)\n",
    "    return ans\n",
    "    "
   ]
  },
  {
   "cell_type": "code",
   "execution_count": 557,
   "id": "9e47ffa5",
   "metadata": {},
   "outputs": [
    {
     "data": {
      "text/plain": [
       "4"
      ]
     },
     "execution_count": 557,
     "metadata": {},
     "output_type": "execute_result"
    }
   ],
   "source": [
    "s = 'bcedacd'\n",
    "c1 = 'b'\n",
    "c2 = 'd'\n",
    "get_max_sbstr(s, c1, c2) \n"
   ]
  },
  {
   "cell_type": "code",
   "execution_count": 558,
   "id": "fc555337-65e9-4537-9780-bd835b78f2e6",
   "metadata": {},
   "outputs": [
    {
     "data": {
      "text/plain": [
       "5"
      ]
     },
     "execution_count": 558,
     "metadata": {},
     "output_type": "execute_result"
    }
   ],
   "source": [
    "s = 'bcedbed' # b-bcedbed bcedbed-d\n",
    "c1 = 'b'\n",
    "c2 = 'd'\n",
    "get_max_sbstr(s, c1, c2) \n"
   ]
  },
  {
   "cell_type": "code",
   "execution_count": 559,
   "id": "2f57ad92-b1ec-42e4-b4ca-8d7f6844094e",
   "metadata": {},
   "outputs": [
    {
     "data": {
      "text/plain": [
       "3"
      ]
     },
     "execution_count": 559,
     "metadata": {},
     "output_type": "execute_result"
    }
   ],
   "source": [
    "s = 'dddacbj'\n",
    "c1 = 'b'\n",
    "c2 = 'd'\n",
    "get_max_sbstr(s, c1, c2) \n"
   ]
  },
  {
   "cell_type": "code",
   "execution_count": 560,
   "id": "9a1392df-93db-42c5-a80f-001b3bdcf8f6",
   "metadata": {},
   "outputs": [
    {
     "data": {
      "text/plain": [
       "6"
      ]
     },
     "execution_count": 560,
     "metadata": {},
     "output_type": "execute_result"
    }
   ],
   "source": [
    "s = 'bbbfrd'\n",
    "c1 = 'b'\n",
    "c2 = 'd'\n",
    "get_max_sbstr(s, c1, c2) \n"
   ]
  },
  {
   "cell_type": "code",
   "execution_count": 561,
   "id": "c8ca55a7-088e-4ae1-b874-b9963099ea69",
   "metadata": {},
   "outputs": [
    {
     "data": {
      "text/plain": [
       "4"
      ]
     },
     "execution_count": 561,
     "metadata": {},
     "output_type": "execute_result"
    }
   ],
   "source": [
    "s = 'bcedbed'\n",
    "c1 = 'c'\n",
    "c2 = 'e'\n",
    "get_max_sbstr(s, c1, c2) \n"
   ]
  },
  {
   "cell_type": "code",
   "execution_count": 562,
   "id": "8e115efb-2566-4518-ade9-442567e3773b",
   "metadata": {},
   "outputs": [
    {
     "data": {
      "text/plain": [
       "9"
      ]
     },
     "execution_count": 562,
     "metadata": {},
     "output_type": "execute_result"
    }
   ],
   "source": [
    "s = 'bceddedffabcddd'\n",
    "c1 = 'a'\n",
    "c2 = 'd'\n",
    "get_max_sbstr(s, c1, c2) \n"
   ]
  },
  {
   "cell_type": "code",
   "execution_count": null,
   "id": "c7955212-27be-49c1-8a48-16210eccc75e",
   "metadata": {},
   "outputs": [],
   "source": []
  },
  {
   "cell_type": "markdown",
   "id": "6a5691ef-37c8-462c-8159-a77558c4818f",
   "metadata": {},
   "source": [
    "## Problem 6"
   ]
  },
  {
   "cell_type": "code",
   "execution_count": 563,
   "id": "a03e518b-8ecb-4be2-9cce-fb3007825007",
   "metadata": {},
   "outputs": [],
   "source": [
    "def num_passwords(n):\n",
    "\n",
    "    if(n):\n",
    "        # Assuming the order is maintained in list\n",
    "        total_len = len(n)\n",
    "\n",
    "        # Initialize an dp table with length of total strings in the input list\n",
    "        dp = [-1]*total_len\n",
    "\n",
    "        # Intialize first value of dp as the first element\n",
    "        first_value = n[0]\n",
    "        dp[0] = [first_value]\n",
    "\n",
    "        # dp = set()\n",
    "        # dp[0] = 1\n",
    "\n",
    "        for i in range(1, total_len ):\n",
    "            # print(i, n[i])\n",
    "            # Initialize new layer empty\n",
    "            dp[i] = []\n",
    "            # Add the current string into the empty new layer\n",
    "            dp[i].append(str(n[i]))        \n",
    "\n",
    "            prev_layer = dp[i-1]        \n",
    "            while( prev_layer ):\n",
    "                # Pop each element from previous list and use as current element to join with further values - this way, save more memory and use maximummof 2^n space\n",
    "                current_element = prev_layer.pop()\n",
    "                # Append the new characters from previous layer with individual numbers from the input array            \n",
    "                dp[i].append(str(current_element)+str(n[i]))\n",
    "                dp[i].append(str(current_element))\n",
    "\n",
    "\n",
    "        # Now we have all valid combinations of combining strings in the input list\n",
    "        dp = set(dp[-1]) # Set takes only unique combinations\n",
    "        return len(dp)\n",
    "\n",
    "    return 0"
   ]
  },
  {
   "cell_type": "code",
   "execution_count": 564,
   "id": "ab8304c2-4096-4330-97e3-3e9cbf08639d",
   "metadata": {},
   "outputs": [
    {
     "data": {
      "text/plain": [
       "13"
      ]
     },
     "execution_count": 564,
     "metadata": {},
     "output_type": "execute_result"
    }
   ],
   "source": [
    "n = [1,2,1,3]\n",
    "num_passwords(n)"
   ]
  },
  {
   "cell_type": "code",
   "execution_count": 565,
   "id": "44a005d4-eb55-419b-97f0-5be0896bcaac",
   "metadata": {},
   "outputs": [
    {
     "data": {
      "text/plain": [
       "4"
      ]
     },
     "execution_count": 565,
     "metadata": {},
     "output_type": "execute_result"
    }
   ],
   "source": [
    "n = [9,9,9,9]\n",
    "num_passwords(n)"
   ]
  },
  {
   "cell_type": "code",
   "execution_count": 566,
   "id": "a3751185-061c-4f95-a3e8-57f856d73724",
   "metadata": {},
   "outputs": [
    {
     "data": {
      "text/plain": [
       "15"
      ]
     },
     "execution_count": 566,
     "metadata": {},
     "output_type": "execute_result"
    }
   ],
   "source": [
    "n = [1,2,-1, 5]\n",
    "num_passwords(n)"
   ]
  },
  {
   "cell_type": "code",
   "execution_count": 567,
   "id": "16108a73-9c5d-4354-803b-fafda88412d4",
   "metadata": {},
   "outputs": [
    {
     "data": {
      "text/plain": [
       "0"
      ]
     },
     "execution_count": 567,
     "metadata": {},
     "output_type": "execute_result"
    }
   ],
   "source": [
    "n = []\n",
    "num_passwords(n)"
   ]
  },
  {
   "cell_type": "code",
   "execution_count": null,
   "id": "d73d6467-bb37-44d3-bc50-d97e0bd6641e",
   "metadata": {},
   "outputs": [],
   "source": []
  },
  {
   "cell_type": "code",
   "execution_count": null,
   "id": "74dcec43-1f36-4b7c-a7f7-b4e1881cd8d7",
   "metadata": {},
   "outputs": [],
   "source": []
  },
  {
   "cell_type": "code",
   "execution_count": null,
   "id": "6ba3360d-2101-4007-910c-0985103b77d6",
   "metadata": {},
   "outputs": [],
   "source": []
  },
  {
   "cell_type": "code",
   "execution_count": null,
   "id": "2e9bb29b-f728-49a1-98e0-314ade2db315",
   "metadata": {},
   "outputs": [],
   "source": []
  }
 ],
 "metadata": {
  "kernelspec": {
   "display_name": "Python 3",
   "language": "python",
   "name": "python3"
  },
  "language_info": {
   "codemirror_mode": {
    "name": "ipython",
    "version": 3
   },
   "file_extension": ".py",
   "mimetype": "text/x-python",
   "name": "python",
   "nbconvert_exporter": "python",
   "pygments_lexer": "ipython3",
   "version": "3.7.9"
  }
 },
 "nbformat": 4,
 "nbformat_minor": 5
}
