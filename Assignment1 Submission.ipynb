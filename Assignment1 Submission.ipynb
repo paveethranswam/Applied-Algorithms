{
 "cells": [
  {
   "cell_type": "code",
   "execution_count": 223,
   "id": "1d1b129c",
   "metadata": {},
   "outputs": [],
   "source": [
    "# Q1\n",
    "def count_prime_letters(n):\n",
    "    count = 0\n",
    "    one_to_twenty = {1:'one', 2:'two', 3:'three', 4:'four', 5:'five', 6:'six',\n",
    "                     7:'seven', 8:'eight', 9:'nine', 11:'eleven', 13:'thirteen', 17:'seventeen', 19:'nineteen'}\n",
    "    above_twenty = {2:'twenty', 3:'thirty', 4:'forty', 5:'fifty', 6:'sixty', 7:'seventy', 8:'eighty', 9:'ninty'}\n",
    "    \n",
    "    def check_prime_num(inp):\n",
    "        nonprime_flag = 0\n",
    "        for i in range(2, (inp//2) + 1):\n",
    "            if(inp%i == 0):\n",
    "                nonprime_flag = 1 \n",
    "                return False\n",
    "        return True    \n",
    "        \n",
    "    #getting prime number list..do till n/2 ( least possible a=2, then b should be < n/2)\n",
    "    for j in range(2, n):\n",
    "        if( check_prime_num(j) ):\n",
    "            if(j < 20):\n",
    "                count+=len(one_to_twenty[j])\n",
    "            else:\n",
    "                count+=len(above_twenty[int(str(j)[0])]) + len(one_to_twenty[int(str(j)[1])])\n",
    "    \n",
    "    return count\n",
    "\n",
    "# Time Complexity: o(n^2) (n*n/2), dict lookup o(1)\n",
    "# https://stackoverflow.com/questions/39429564/to-find-a-number-is-prime-why-checking-till-n-2-is-better-what-is-the-reason-f"
   ]
  },
  {
   "cell_type": "code",
   "execution_count": 225,
   "id": "c17139de",
   "metadata": {},
   "outputs": [
    {
     "name": "stdout",
     "output_type": "stream",
     "text": [
      "3\n",
      "17\n",
      "31\n",
      "117\n"
     ]
    }
   ],
   "source": [
    "print(count_prime_letters(3))\n",
    "print(count_prime_letters(8))\n",
    "print(count_prime_letters(17))\n",
    "print(count_prime_letters(52))"
   ]
  },
  {
   "cell_type": "code",
   "execution_count": null,
   "id": "b1321008",
   "metadata": {},
   "outputs": [],
   "source": []
  },
  {
   "cell_type": "code",
   "execution_count": 233,
   "id": "921756ba",
   "metadata": {},
   "outputs": [],
   "source": [
    "# Q2\n",
    "def get_square_sum(M,N):\n",
    "    global last_val \n",
    "    if(last_val == 0):\n",
    "        output = 0\n",
    "    else:\n",
    "        output = N\n",
    "    for i in range(last_val, N):\n",
    "        sq = int(i**(1/2))\n",
    "        if(i == sq*sq):\n",
    "            output += i\n",
    "    last_val = i\n",
    "    \n",
    "    if(M-1 > 0):\n",
    "        output = get_square_sum(M-1, output)\n",
    "    \n",
    "    return output\n",
    "    \n"
   ]
  },
  {
   "cell_type": "code",
   "execution_count": 230,
   "id": "736f566d",
   "metadata": {},
   "outputs": [
    {
     "name": "stdout",
     "output_type": "stream",
     "text": [
      "14\n",
      "55\n",
      "140\n",
      "25585\n"
     ]
    }
   ],
   "source": [
    "global last_val\n",
    "last_val = 0\n",
    "print(get_square_sum(1, 10))\n",
    "\n",
    "last_val = 0\n",
    "print(get_square_sum(2, 20))\n",
    "\n",
    "last_val = 0\n",
    "print(get_square_sum(3, 20))\n",
    "\n",
    "last_val = 0\n",
    "print(get_square_sum(2, 316))\n"
   ]
  },
  {
   "cell_type": "code",
   "execution_count": null,
   "id": "6c3331d3",
   "metadata": {},
   "outputs": [],
   "source": []
  },
  {
   "cell_type": "code",
   "execution_count": 232,
   "id": "c4997f46",
   "metadata": {},
   "outputs": [],
   "source": [
    "# Q3\n",
    "def check_bit(N):\n",
    "    binary_rep = bin(N)[2:]\n",
    "    ic = 0\n",
    "    second_bit = 0\n",
    "    for i in range(len(binary_rep)):\n",
    "        if(binary_rep[i] == '1'):\n",
    "            ic+=1\n",
    "            \n",
    "            if(ic == 2):\n",
    "                second_bit =  i + 1\n",
    "                break\n",
    "            \n",
    "    \n",
    "    if(ic != 2):\n",
    "        second_bit = -1\n",
    "    \n",
    "    return second_bit"
   ]
  },
  {
   "cell_type": "code",
   "execution_count": 234,
   "id": "53161c1d",
   "metadata": {},
   "outputs": [
    {
     "name": "stdout",
     "output_type": "stream",
     "text": [
      "-1\n",
      "2\n",
      "-1\n",
      "4\n",
      "2\n"
     ]
    }
   ],
   "source": [
    "print(check_bit(2))\n",
    "print(check_bit(3))\n",
    "print(check_bit(8))\n",
    "print(check_bit(9))\n",
    "print(check_bit(31))\n",
    "\n"
   ]
  },
  {
   "cell_type": "code",
   "execution_count": null,
   "id": "ba0f78f3",
   "metadata": {},
   "outputs": [],
   "source": []
  },
  {
   "cell_type": "code",
   "execution_count": 236,
   "id": "857771ea",
   "metadata": {},
   "outputs": [
    {
     "data": {
      "text/plain": [
       "149149"
      ]
     },
     "execution_count": 236,
     "metadata": {},
     "output_type": "execute_result"
    }
   ],
   "source": [
    "# Q4\n",
    "def find_multiple(n):\n",
    "    inp = str(n)\n",
    "    op = int(str(n)+str(n))\n",
    "    \n",
    "    return op\n",
    "\n",
    "\n",
    "find_multiple(149)\n",
    "# The logic behind my approach is that when we multiply 7*11*13, we get 1001, and any three digit number\n",
    "# when multiplied with 1001 will give the same three digit number repeating twice. For example, 1001*149\n",
    "# will give 149149. Since, we have 4 separate prime numbers, 7,11,13 and n, and the multiples of each of these\n",
    "# numbers are 1 and that number itself. So, to find a number that is divisible by all of these numbers,\n",
    "# we multiply all of these numbers and that output number is itself the perfectly divisible number because\n",
    "# that is the least common multiple of the four prime numbers together.\n"
   ]
  },
  {
   "cell_type": "code",
   "execution_count": null,
   "id": "9ea8099d",
   "metadata": {},
   "outputs": [],
   "source": []
  },
  {
   "cell_type": "code",
   "execution_count": 237,
   "id": "116cfe47",
   "metadata": {},
   "outputs": [],
   "source": [
    "# Q5\n",
    "def find_the_winner(matches_won , matches_drawn , goals_scored):\n",
    "    max_pts = {matches_won[0]*3 + matches_drawn[0]*1 : (goals_scored[0], 0)}\n",
    "    \n",
    "    for i in range(len(matches_won)):\n",
    "        points = matches_won[i]*3 + matches_drawn[i]*1\n",
    "        \n",
    "        if(points > list(max_pts.keys())[0]):\n",
    "            max_pts = {points : (goals_scored[i], i)}\n",
    "            \n",
    "        elif(points == list(max_pts.keys())[0] and goals_scored[i] > max_pts[points][0]):\n",
    "            max_pts = {points : (goals_scored[i], i)}\n",
    "            \n",
    "        \n",
    "    return list(max_pts.values())[0][1]\n",
    "    \n",
    "    "
   ]
  },
  {
   "cell_type": "code",
   "execution_count": 141,
   "id": "e829a618",
   "metadata": {},
   "outputs": [],
   "source": [
    "# 5*3 + 2*1\n",
    "# 4*3 + 10*1\n",
    "# 2*3 + 11*1"
   ]
  },
  {
   "cell_type": "code",
   "execution_count": 238,
   "id": "988df3d3",
   "metadata": {},
   "outputs": [
    {
     "name": "stdout",
     "output_type": "stream",
     "text": [
      "0\n",
      "1\n"
     ]
    }
   ],
   "source": [
    "matches_won = [3,1,2,0]\n",
    "matches_drawn = [0,1,0,1]\n",
    "goals_scored=[6,4,5,2]\n",
    "print(find_the_winner(matches_won , matches_drawn , goals_scored))\n",
    "\n",
    "matches_won = [5,4,2]\n",
    "matches_drawn = [2,10,11]\n",
    "goals_scored=[6,4,5]\n",
    "print(find_the_winner(matches_won , matches_drawn , goals_scored))"
   ]
  },
  {
   "cell_type": "code",
   "execution_count": 245,
   "id": "963dd82d",
   "metadata": {},
   "outputs": [],
   "source": [
    "# Q6\n",
    "def decoded_String (S):\n",
    "    char_counts = {}\n",
    "    decoded_str = ''\n",
    "    \n",
    "    for i in range(len(S)):\n",
    "        if(char_counts.get(S[i]) == None):\n",
    "            char_counts[S[i]] = 1\n",
    "        else:\n",
    "            char_counts[S[i]]+=1\n",
    "        \n",
    "        if(char_counts[S[i]]%3 != 0):\n",
    "            decoded_str+=S[i]\n",
    "    \n",
    "    return decoded_str\n",
    "    \n",
    "# This code time complexity is o(n), only the for loop runs over the length of the string, and dict lookup\n",
    "# is o(1). Also the only memory occupied is the char_counts variable, which stores maximum unique characters \n",
    "# over the length of the string."
   ]
  },
  {
   "cell_type": "code",
   "execution_count": 246,
   "id": "dfc05140",
   "metadata": {},
   "outputs": [
    {
     "name": "stdout",
     "output_type": "stream",
     "text": [
      "abzzba\n",
      "abzzbaz\n",
      "aaaa\n"
     ]
    }
   ],
   "source": [
    "print(decoded_String('abzzbabz'))\n",
    "print(decoded_String('abzzbabzz'))\n",
    "print(decoded_String('aaaaaa'))\n"
   ]
  },
  {
   "cell_type": "code",
   "execution_count": null,
   "id": "c14cb5aa",
   "metadata": {},
   "outputs": [],
   "source": []
  },
  {
   "cell_type": "code",
   "execution_count": null,
   "id": "75021ac7",
   "metadata": {},
   "outputs": [],
   "source": []
  },
  {
   "cell_type": "code",
   "execution_count": null,
   "id": "34f54967",
   "metadata": {},
   "outputs": [],
   "source": [
    "x_axis = ['24.4%', '15.4%', '6.13%', '7.45%', '4.63%', '3.27%', '3.25%', ]"
   ]
  }
 ],
 "metadata": {
  "kernelspec": {
   "display_name": "Python 3",
   "language": "python",
   "name": "python3"
  },
  "language_info": {
   "codemirror_mode": {
    "name": "ipython",
    "version": 3
   },
   "file_extension": ".py",
   "mimetype": "text/x-python",
   "name": "python",
   "nbconvert_exporter": "python",
   "pygments_lexer": "ipython3",
   "version": "3.7.9"
  }
 },
 "nbformat": 4,
 "nbformat_minor": 5
}
